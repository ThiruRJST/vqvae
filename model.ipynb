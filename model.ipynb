{
 "cells": [
  {
   "cell_type": "code",
   "execution_count": 14,
   "metadata": {},
   "outputs": [
    {
     "data": {
      "text/plain": [
       "<All keys matched successfully>"
      ]
     },
     "execution_count": 14,
     "metadata": {},
     "output_type": "execute_result"
    }
   ],
   "source": [
    "import mlflow.pytorch\n",
    "import numpy as np\n",
    "import torch\n",
    "\n",
    "from PIL import Image\n",
    "from src.data.cifar import get_cifar10_loader\n",
    "from src.models.blocks import VQVAE\n",
    "from torch.optim.lr_scheduler import CosineAnnealingWarmRestarts\n",
    "from tqdm import tqdm\n",
    "\n",
    "\n",
    "# Configurations\n",
    "num_epochs = 20\n",
    "n_hidden = 256\n",
    "n_residual_hidden = 128\n",
    "n_residual_layers = 3\n",
    "n_embeddings = 2048\n",
    "embedding_dim = 64\n",
    "beta = 0.25\n",
    "learning_rate = 3e-4\n",
    "log_interval = 100\n",
    "batch_size = 1\n",
    "device = \"cuda\" if torch.cuda.is_available() else \"cpu\"\n",
    "\n",
    "# Load dataset\n",
    "trainloader, testloader = get_cifar10_loader(batch_size)\n",
    "\n",
    "# Load model\n",
    "model = VQVAE(\n",
    "    n_hidden, n_residual_hidden, n_residual_layers, n_embeddings, embedding_dim, beta\n",
    ")\n",
    "model.load_state_dict(torch.load(\"best_models/v5/vqvae_model_aircraft_v5_loss_0.0121.pth\"))"
   ]
  },
  {
   "cell_type": "code",
   "execution_count": 16,
   "metadata": {},
   "outputs": [
    {
     "data": {
      "text/plain": [
       "VQVAE(\n",
       "  (encoder): Encoder(\n",
       "    (conv_stack): Sequential(\n",
       "      (0): Conv2d(3, 128, kernel_size=(4, 4), stride=(2, 2), padding=(1, 1))\n",
       "      (1): ReLU()\n",
       "      (2): Conv2d(128, 256, kernel_size=(4, 4), stride=(2, 2), padding=(1, 1))\n",
       "      (3): ReLU()\n",
       "      (4): Conv2d(256, 256, kernel_size=(3, 3), stride=(1, 1), padding=(1, 1))\n",
       "      (5): ResidualBlock(\n",
       "        (res_stack): ModuleList(\n",
       "          (0-127): 128 x ResidualLayer(\n",
       "            (res_block): Sequential(\n",
       "              (0): ReLU(inplace=True)\n",
       "              (1): Conv2d(256, 3, kernel_size=(3, 3), stride=(1, 1), padding=(1, 1), bias=False)\n",
       "              (2): ReLU(inplace=True)\n",
       "              (3): Conv2d(3, 256, kernel_size=(1, 1), stride=(1, 1), bias=False)\n",
       "            )\n",
       "          )\n",
       "        )\n",
       "      )\n",
       "    )\n",
       "  )\n",
       "  (pre_quantization_conv): Conv2d(256, 64, kernel_size=(1, 1), stride=(1, 1))\n",
       "  (vector_quantization): VectorQuantizer(\n",
       "    (embedding): Embedding(2048, 64)\n",
       "  )\n",
       "  (decoder): Decoder(\n",
       "    (inverse_conv_stack): Sequential(\n",
       "      (0): ConvTranspose2d(64, 256, kernel_size=(3, 3), stride=(1, 1), padding=(1, 1))\n",
       "      (1): ResidualBlock(\n",
       "        (res_stack): ModuleList(\n",
       "          (0-127): 128 x ResidualLayer(\n",
       "            (res_block): Sequential(\n",
       "              (0): ReLU(inplace=True)\n",
       "              (1): Conv2d(256, 3, kernel_size=(3, 3), stride=(1, 1), padding=(1, 1), bias=False)\n",
       "              (2): ReLU(inplace=True)\n",
       "              (3): Conv2d(3, 256, kernel_size=(1, 1), stride=(1, 1), bias=False)\n",
       "            )\n",
       "          )\n",
       "        )\n",
       "      )\n",
       "      (2): ConvTranspose2d(256, 128, kernel_size=(4, 4), stride=(2, 2), padding=(1, 1))\n",
       "      (3): ReLU()\n",
       "      (4): ConvTranspose2d(128, 3, kernel_size=(4, 4), stride=(2, 2), padding=(1, 1))\n",
       "    )\n",
       "  )\n",
       ")"
      ]
     },
     "execution_count": 16,
     "metadata": {},
     "output_type": "execute_result"
    }
   ],
   "source": [
    "model.eval()"
   ]
  }
 ],
 "metadata": {
  "kernelspec": {
   "display_name": ".venv",
   "language": "python",
   "name": "python3"
  },
  "language_info": {
   "codemirror_mode": {
    "name": "ipython",
    "version": 3
   },
   "file_extension": ".py",
   "mimetype": "text/x-python",
   "name": "python",
   "nbconvert_exporter": "python",
   "pygments_lexer": "ipython3",
   "version": "3.10.16"
  }
 },
 "nbformat": 4,
 "nbformat_minor": 2
}
